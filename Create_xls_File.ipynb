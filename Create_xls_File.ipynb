{
  "nbformat": 4,
  "nbformat_minor": 0,
  "metadata": {
    "colab": {
      "provenance": [],
      "authorship_tag": "ABX9TyN3MUJ0xKiGfAKXJEGPUhOw",
      "include_colab_link": true
    },
    "kernelspec": {
      "name": "python3",
      "display_name": "Python 3"
    },
    "language_info": {
      "name": "python"
    }
  },
  "cells": [
    {
      "cell_type": "markdown",
      "metadata": {
        "id": "view-in-github",
        "colab_type": "text"
      },
      "source": [
        "<a href=\"https://colab.research.google.com/github/hannahwilkinson/Google-Colab/blob/main/Create_xls_File.ipynb\" target=\"_parent\"><img src=\"https://colab.research.google.com/assets/colab-badge.svg\" alt=\"Open In Colab\"/></a>"
      ]
    },
    {
      "cell_type": "code",
      "execution_count": null,
      "metadata": {
        "colab": {
          "base_uri": "https://localhost:8080/"
        },
        "id": "Zr8NswMo92KU",
        "outputId": "b69c19ea-c09b-4b29-cc06-f892d3e02bab"
      },
      "outputs": [
        {
          "output_type": "stream",
          "name": "stdout",
          "text": [
            "Collecting xlwt\n",
            "  Downloading xlwt-1.3.0-py2.py3-none-any.whl (99 kB)\n",
            "\u001b[2K     \u001b[90m━━━━━━━━━━━━━━━━━━━━━━━━━━━━━━━━━━━━━━━━\u001b[0m \u001b[32m100.0/100.0 kB\u001b[0m \u001b[31m1.0 MB/s\u001b[0m eta \u001b[36m0:00:00\u001b[0m\n",
            "\u001b[?25hInstalling collected packages: xlwt\n",
            "Successfully installed xlwt-1.3.0\n"
          ]
        }
      ],
      "source": [
        "pip install xlwt"
      ]
    },
    {
      "cell_type": "code",
      "source": [
        "import xlwt\n",
        "\n",
        "#add a .xls file to the folder\n",
        "workbook = xlwt.Workbook()\n",
        "sheet = workbook.add_sheet('Sheet 1')\n",
        "sheet.write(0,1,'First text')\n",
        "\n",
        "#propmt for file name\n",
        "fileName = input(\"File Name: \")\n",
        "\n",
        "#will save as filename.xls\n",
        "workbook.save((fileName)+'.xls')"
      ],
      "metadata": {
        "colab": {
          "base_uri": "https://localhost:8080/"
        },
        "id": "s7IsVYLG96w7",
        "outputId": "ca1aac23-e025-486f-fad6-a66c97838f29"
      },
      "execution_count": null,
      "outputs": [
        {
          "name": "stdout",
          "output_type": "stream",
          "text": [
            "File Name: NewFile\n"
          ]
        }
      ]
    }
  ]
}